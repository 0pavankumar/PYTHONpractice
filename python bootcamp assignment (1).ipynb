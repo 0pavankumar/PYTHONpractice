{
 "cells": [
  {
   "cell_type": "code",
   "execution_count": 1,
   "id": "6e63198e",
   "metadata": {},
   "outputs": [
    {
     "name": "stdout",
     "output_type": "stream",
     "text": [
      "Enter your Name  pavan\n",
      "enter your marks  55\n",
      "You scored D grade\n"
     ]
    }
   ],
   "source": [
    "Name = input(\"Enter your Name  \")\n",
    "Marks = int(input (\"enter your marks  \"))\n",
    "if 100 >= Marks >= 90:\n",
    "    print(\"You scored A+ grade\" )\n",
    "elif 89>=Marks>=80:\n",
    "    print(\"You scored A grade\")\n",
    "elif 79 >= Marks >= 70:\n",
    "    print(\"You scored B grade\")\n",
    "elif 69 >= Marks >= 60:\n",
    "    print(\"You scored C grade\")\n",
    "elif 59 >= Marks >= 50:\n",
    "    print(\"You scored D grade\")\n",
    "elif 49 >= Marks >=0:\n",
    "    print(\"You failed the exam\")\n",
    "else:\n",
    "    print(\"You entered invalid marks\")"
   ]
  },
  {
   "cell_type": "code",
   "execution_count": 2,
   "id": "1825c7c7",
   "metadata": {},
   "outputs": [
    {
     "name": "stdout",
     "output_type": "stream",
     "text": [
      "Enter your Name (type 'exit' to quit): guru\n",
      "Enter your marks: 95\n",
      "guru, you scored: A+ grade\n",
      "\n",
      "Enter your Name (type 'exit' to quit): govind\n",
      "Enter your marks: 45\n",
      "govind, you scored: You failed the exam\n",
      "\n",
      "Enter your Name (type 'exit' to quit): exit\n"
     ]
    }
   ],
   "source": [
    "def calculate_grade(marks):\n",
    "    if 100 >= marks >= 90:\n",
    "        return \"A+ grade\"\n",
    "    elif 89 >= marks >= 80:\n",
    "        return \"A grade\"\n",
    "    elif 79 >= marks >= 70:\n",
    "        return \"B grade\"\n",
    "    elif 69 >= marks >= 60:\n",
    "        return \"C grade\"\n",
    "    elif 59 >= marks >= 50:\n",
    "        return \"D grade\"\n",
    "    elif 49 >= marks >= 0:\n",
    "        return \"You failed the exam\"\n",
    "    else:\n",
    "        return \"Invalid marks input\"\n",
    "\n",
    "while True:\n",
    "    Name = input(\"Enter your Name (type 'exit' to quit): \")\n",
    "    if Name.lower() == 'exit':\n",
    "        break\n",
    "\n",
    "    try:\n",
    "        Marks = int(input(\"Enter your marks: \"))\n",
    "        if 0 <= Marks <= 100:\n",
    "            print(f\"{Name}, you scored: {calculate_grade(Marks)}\\n\")\n",
    "        else:\n",
    "            print(\"Invalid marks input. Please enter a value between 0 and 100.\\n\")\n",
    "    except ValueError:\n",
    "        print(\"Invalid input. Please enter a number or 'exit' to quit.\\n\")\n"
   ]
  },
  {
   "cell_type": "code",
   "execution_count": null,
   "id": "9e427eaf",
   "metadata": {},
   "outputs": [],
   "source": []
  }
 ],
 "metadata": {
  "kernelspec": {
   "display_name": "Python 3 (ipykernel)",
   "language": "python",
   "name": "python3"
  },
  "language_info": {
   "codemirror_mode": {
    "name": "ipython",
    "version": 3
   },
   "file_extension": ".py",
   "mimetype": "text/x-python",
   "name": "python",
   "nbconvert_exporter": "python",
   "pygments_lexer": "ipython3",
   "version": "3.9.12"
  }
 },
 "nbformat": 4,
 "nbformat_minor": 5
}
